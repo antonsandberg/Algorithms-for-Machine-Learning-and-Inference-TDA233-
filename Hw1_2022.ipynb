{
 "cells": [
  {
   "cell_type": "markdown",
   "metadata": {
    "colab_type": "text",
    "id": "1UKOQcXNtJ8e"
   },
   "source": [
    "$\\qquad$ $\\qquad$$\\qquad$  **TDA233 / DIT382 Machine Learning: Homework 1** <br />\n",
    "$\\qquad$ $\\qquad$$\\qquad$ **Goal: Start working with Jupyter notebooks, introduction to probability and regression models**<br />\n",
    "$\\qquad$ $\\qquad$$\\qquad$                   **Grader: Arman Rahbar** <br />\n",
    "$\\qquad$ $\\qquad$$\\qquad$                   **Submitted by: Name, Personal no., email** <br />"
   ]
  },
  {
   "cell_type": "markdown",
   "metadata": {
    "colab_type": "text",
    "id": "PQ8gZxqWtJ8h"
   },
   "source": [
    "General guidelines:\n",
    "* All solutions to theoretical and pratical problems must be submitted in this ipynb notebook, and equations wherever required, should be formatted using LaTeX math-mode.\n",
    "* All discussion regarding practical problems, along with solutions and plots should be specified in this notebook. \n",
    "All plots/results should be visible such that the notebook do not have to be run. But the code in the notebook should reproduce the plots/results if we choose to do so.\n",
    "* Your name, personal number and email address should be specified above.\n",
    "* All tables and other additional information should be included in this notebook.\n",
    "* ** Before submitting, make sure that your code can run on another computer. That all plots can show on another computer including all your writing. It is good to check if your code can run here: https://colab.research.google.com **\n",
    "* ** Upload both the .ipynb and the generatable .html file (that can be exported through File > Download As > HTML) **"
   ]
  },
  {
   "cell_type": "markdown",
   "metadata": {
    "colab_type": "text",
    "id": "vrnQ98KgtJ8i"
   },
   "source": [
    "**Jupyter/IPython Notebook** is a collaborative Python web-based environment. This will be used in all our Homework Assignments. It is installed in the halls ES61-ES62, E-studio and MT9. You can also use google-colab: https://colab.research.google.com\n",
    "to run these notebooks without having to download, install, or do anything on your own computer other than a browser.\n",
    "Some useful resources:\n",
    "1. https://jupyter-notebook-beginner-guide.readthedocs.io/en/latest/ (Quick-start guide)\n",
    "2. https://www.kdnuggets.com/2016/04/top-10-ipython-nb-tutorials.html\n",
    "3. http://data-blog.udacity.com/posts/2016/10/latex-primer/ (latex-primer)\n",
    "4. http://jupyter-notebook.readthedocs.io/en/stable/examples/Notebook/Working%20With%20Markdown%20Cells.html (markdown)"
   ]
  },
  {
   "cell_type": "markdown",
   "metadata": {
    "colab_type": "text",
    "id": "fl1Lu21rtJ8k"
   },
   "source": [
    "# Theoretical problems\n",
    "\n",
    "## [Bayes Rule, 3 points]\n",
    "\n",
    "After your yearly checkup, the doctor has bad news and good news. The\n",
    "bad news is that you tested positive for a very serious cancer and\n",
    "that the test is 99.2% accurate i.e. the probability of testing\n",
    "positive given you have the disease is 0.992. The probability of\n",
    "testing negative if you don’t have the disease is the same (also 0.992). The good news is that it is a rare condition affecting only 1 in 1,000 people. What is the probability you actually have the disease? \n",
    "\n",
    "After doing all your calculations you realize that there was a misprint on the test, and the accuracy was actually only 92% (for both testing postive given that you have the disease and for testing negative given that you do not have the disease). How will this change your probability of having the disease?\n",
    "\n",
    "(Show all calculations and the final result.)\n"
   ]
  },
  {
   "cell_type": "markdown",
   "metadata": {},
   "source": [
    "## [Setting hyperparameters, 2 points]\n",
    "\n",
    "Suppose $\\theta$ is a random variable generated from a beta distribution as: $\\theta \\sim \\mbox{Beta}(a^2,b)$. Also assume that  the expectation of $\\theta$ is $m$: $E[\\theta] = m$\n",
    "and the variance of $\\theta$ is $v$: $\\mbox{var}(\\theta) = v$. Express $a$ and $b$ in term of (only) $m$ and $v$.\n",
    "For more information about the $\\mbox{Beta}$ distribution see https://en.wikipedia.org/wiki/Beta_distribution."
   ]
  },
  {
   "cell_type": "markdown",
   "metadata": {},
   "source": [
    "\n",
    "## [Correlation and Independence, 2 points]\n",
    "\n",
    "Let $X$ be a continuous random variable, uniformly distributed in $[-2, +2]$ and let $Y := X^4$. Clearly $Y$ is not independent of $X$ -- in fact it is uniquely determined by $X$. However, show that the covariance of $X$ and $Y$ is 0: $\\mbox{cov}(X, Y ) = 0$.\n",
    "Show and justify every step of the proof. Statements like \"it is obvious that, it is trivial ...\" will not be accepted."
   ]
  },
  {
   "cell_type": "markdown",
   "metadata": {},
   "source": [
    "## [Spherical Gaussian estimation, 4 points]\n",
    "\n",
    "Consider a dataset $X$ consisting of i.i.d. observations\n",
    "generated from a spherical Gaussian distribution $N(\\mu, \\sigma^2I)$, where $\\mu \\in \\mathbb{R}^p$, $I$ \n",
    "is the $p \\times p $ identity matrix, and $\\sigma^2$ is a scalar.\n",
    "\n",
    "Write the mathematical expression for the Maximum Likelihood Estimator (MLE) for $\\mu$ and $\\sigma$ in above setup.\n",
    "\n",
    "For more information about the spherical Gaussian distribution, see https://en.wikipedia.org/wiki/Multivariate_normal_distribution.\n",
    "For more information about the identity matrix see: https://en.wikipedia.org/wiki/Identity_matrix"
   ]
  },
  {
   "cell_type": "markdown",
   "metadata": {
    "colab_type": "text",
    "id": "lO0M1fgXMtMD"
   },
   "source": [
    "Write Answers  here. Double-click (or enter) to edit. Latex mathematical expressions can just be written by starting with \"$\" and ending with the same character.\n",
    "\n",
    "## Bayes Rule\n",
    "$ P(disease) = 0.001 \\\\\n",
    "P(positive|disease) = 0.992 \\\\\n",
    "P(negative|disease) = 1 - 0.992 = 0.008 \\\\\n",
    "P(negative|no disease) = 0.992 \\\\\n",
    "P(positive|no disease) = 1 - 0.992 = 0.008 \\\\ $\n",
    "\n",
    "We want to compute P(disease|positive). Bayes rule gives us:\n",
    "\n",
    "$ P(disease|positive) = \\frac{P(disease)P(positive|disease)}{P(disease)P(positive|disease)+P(no disease)P(positive|no disease)} \\\\ $\n",
    "\n",
    "a) => $ \\frac{0.001*0.992}{0.001*0.992 + 0.999*0.008} = 0.1104185 = 11.04\\% \\\\ $\n",
    "\n",
    "b) => $ \\frac{0.001*0.92}{0.001*0.92 + 0.999*0.08} = 0.0113805 = 1.13\\% $\n",
    "\n",
    "## Setting hyperparameters\n",
    "From the definition for the beta distribution:\n",
    "\n",
    "$ mean = a^2/(a^2 + b), variance = a^2*b/((a^2+b)^2(a^2+b+1) $\n",
    "\n",
    "Let's substitute c = a^2 for easier computation, also mean = m and variance = v:\n",
    "\n",
    "$ b = c/m - c $ Insert into the equation for variance and try to get c alone:\n",
    "\n",
    "$ v = c*(c/m-c)/((c+c/m-c)^2(c+c/m-c+1)) $\n",
    "\n",
    "$ v = (c^2/m-c^2)/((c/m)^2(c/m + 1) $\n",
    "\n",
    "$ v = c^2(1/m - 1)/((c^3+mc^2)/m^3) $\n",
    "\n",
    "$ v = (m^2 - m^3)/(c+m) $\n",
    "\n",
    "$ (m^2 - -m^3)/v - m = c $\n",
    "\n",
    "$ (m^2 - m^3 - mv)/v = a^2 $\n",
    "\n",
    "$ a = \\pm \\sqrt{(m^2-m^3-mv)/v} $\n",
    "\n",
    "Insert this into the equation for the mean and solve b:\n",
    "\n",
    "$ m = a^2/(a^2+b) => $\n",
    "\n",
    "$ b =  a^2/m - a^2 $\n",
    "\n",
    "$ b = (m-m^2-v)/v - (m^2-m^3-mv)/v $\n",
    "\n",
    "$ b = (m -2m^2+m^3+mv-v)/v $\n",
    "\n",
    "$b = (-1+m)(-m+m^2+v)/v $\n",
    "\n",
    "\n",
    "## Correlation and Independence\n",
    "\n",
    "From definition of covariance matrix:\n",
    "\n",
    "$ Cov(X,Y) = E[(X-E[X])(Y-E[Y])] \\\\ $\n",
    "\n",
    "$ Cov(X,Y) = E[XY - XE[Y] - E[X]Y + E[X]E[Y]] \\\\ $\n",
    "\n",
    "$ Cov(X,Y) = E[XY] - E[X]E[Y] + E[X]E[Y] - E[X]E[Y] \\\\ $\n",
    "\n",
    "$ Cov(X,Y) = E[XY] - E[X]E[Y] \\\\ $\n",
    "\n",
    "$ E[XY] = E[X^5] = 1/4\\int_{-2}^{2}X^5 dX  = 1/4[\\frac{x^6}{6}]_{-2}^{2} = 1/4(64/6 - 64/6) = 0 $\n",
    "\n",
    "$ E[X]E[Y] = 0 $ since $ E[X] = mean(X) = 0 $\n",
    "\n",
    "$ Cov(X,Y) = 0 $ \n",
    "\n",
    "\n",
    "## Spherical Gaussian Estimation\n",
    "$ log(L) = log(N(\\mathbf{Xw},\\sigma^2\\mathbf{I})) $\n",
    "\n",
    "$ \\frac{\\partial log(\\mathbf{L})}{\\partial \\mathbf{w}} = -1/(2\\sigma^2)(\\mathbf{2X^TXw - 2X^Tt}) = 0 $\n",
    "\n",
    "$ \\mathbf{w} = (\\mathbf{X^T X})^{-1}\\mathbf{X^T t} $\n",
    "\n",
    "$ \\mathbf{\\mu} = \\mathbf{Xw} = \\mathbf{X}(\\mathbf{X^T X})^{-1}\\mathbf{X^T t} $\n",
    "\n",
    "$ \\frac{\\partial log(L)}{\\partial \\sigma^2} = -N/(2\\sigma^2)+1/(2(\\sigma^2)^2)(\\textbf{t-Xw})^T(\\textbf{t-Xw}) = 0 $\n",
    "\n",
    "$ \\sigma^2 = 1/N(\\mathbf{t-Xw})^T(\\mathbf{t-Xw}) $\n",
    "\n",
    "$ \\sigma = \\sqrt{1/N(\\mathbf{t-Xw})^T(\\mathbf{t-Xw})} $\n",
    "\n",
    "\n",
    "Fel, han sa något med att man ska starta från pdf i wikipediasidan i beskrivningen"
   ]
  },
  {
   "cell_type": "markdown",
   "metadata": {},
   "source": [
    "# Practical problems"
   ]
  },
  {
   "cell_type": "markdown",
   "metadata": {},
   "source": [
    "# [Linear Regression with regularization 9pt]\n",
    "\n",
    "You are newly recruited as a Data Scientist at a leading consultancy company in Gothenburg. Your first task at the job is to help the Swedish Public Health Agency (folkhalsomyndigheten) for predicting the diabetes progression of patients. Assume that you are given a dataset D of $n$ patients with $D = \\{ (\\mathbf{x}_i, y_i)\\}_{i=1}^n$ where $\\mathbf{x}_i \\in \\mathbb{R}^p$ represents numerical features of each patients and $y_i \\in \\mathbb{R}$ represent the numerical diabetes progression.  One can also view the dataset D as a pair of matrices $(\\mathbf{X}, \\mathbf{y})$ with $\\mathbf{X} \\in \\mathbb{R}^{n \\times p}$ and $\\mathbf{y} \\in \\mathbb{R}^{n \\times 1}$.\n",
    "\n",
    "Fresh with the lectures in the machine learning course at Chalmers, you would like to use a linear model to quickly perform the task. In order words, you would like to find a vector $\\mathbf{w} \\in \\mathbb{R}^{p \\times 1}$  such that $\\mathbf{y} = \\mathbf{X} \\mathbf{w}$.  However,  you have just read one of the most popular machine learning book and it argues that standard linear regression (for finding $\\mathbf{w}$) can lead to various problems such as non-uniqueness of the solution,  overfitting, etc. As a result, you decided to add a penalty term called regularization to control the optimisation problem. More specifically, you want to solve for: $\\min_{\\mathbf{w}}  \\mathcal{L}(\\mathbf{w})$ where  $\\mathcal{L}(\\mathbf{w}) = \\left(\\sum_{i=1}^n (y_i - \\mathbf{w}^T\\mathbf{x}_i)^2 \\right) + \\left(\\alpha \\sum_{j=1}^p w_j^2 \\right) $ with $\\alpha \\in \\mathbb{R}$ a small coefficient that you will decide later on.\n",
    "\n",
    "Please note the slight changes in the notation. Recall that in the lectures we had a dataset $\\{ (\\mathbf{x}_n, t_n)\\}_{n=1}^N$ where $\\mathbf{x}_n \\in \\mathbb{R}^D$ and $t_n \\in \\mathbb{R}$. We also appended $1$ to the begining of $\\mathbf{x}_n$ so both $\\mathbf{x}_n$ and $\\mathbf{w}$ were in $\\mathbb{R}^{D+1}$. Thus, here $p$ is the same thing as $D+1$. Compare $w_1, w_2, \\dots, w_p$ with $w_0, w_1, \\dots, w_D$.\n",
    "\n",
    "1-  **1pt** Write down $\\mathcal{L}(\\mathbf{w})$ in matrix/vector forms using only $\\mathbf{X}$, $\\mathbf{y}$ and $\\mathbf{w}$ and the L2 norm. In other words, you are not allowed to use any components $y_i, \\mathbf{w}_j$ or $\\mathbf{x}_i$ ( For any vector $\\mathbf{z}$ use the following notation $|\\mathbf{z}|_2$ to mean the L2 norm of  $\\mathbf{z}$ See http://mathworld.wolfram.com/L2-Norm.html for more information about the L2 norm.)\n",
    "\n",
    "**Answer:**\n",
    "\n",
    "$\\mathcal{L}(\\textbf{w}) = \\frac{1}{N}|\\textbf{y-Xw}|_2^2+ \\alpha|\\textbf{w}|_2^2 = \\frac{1}{N}( \\mathbf{y}^T\\mathbf{y} -2\\mathbf{w^T X^T y} + \\mathbf{w^T X^T X w}) + \\alpha \\mathbf{w^T w}$\n",
    "\n",
    "2- **1pt** Derive and write down in matrix/vector forms the gradient of $\\mathcal{L}(\\mathbf{w})$ with respect to $\\mathbf{w}$. Show all the derivations. (Hint: You can start by  computing the gradient of the full expression and then convert it to matrix/vector forms. You can also directly get the gradients from your answer in 1-)\n",
    "\n",
    "**Answer:**\n",
    "\n",
    "$\\frac{\\partial \\mathcal{L}}{\\partial \\mathbf{w}} = \\frac{\\partial}{\\partial \\mathbf{w}} (\\frac{1}{N}( \\mathbf{y}^T\\mathbf{y} -2\\mathbf{w^T X^T y} + \\mathbf{w^T X^T X w}) + \\alpha \\mathbf{w^T w}) = \\frac{2}{N}( \\mathbf{X^T X w} - \\mathbf{X^T y} ) + 2 \\alpha \\mathbf{w}$\n",
    "\n",
    "\n",
    "3- **2pt** Derive and write down in matrix/vector forms the solution $\\mathbf{w}^*$ to the optimization problem $\\min_{\\mathbf{w}}  \\mathcal{L}(\\mathbf{w})$. Show all your derivations. (Hint: $\\mathcal{L}(\\mathbf{w})$ is convex in $\\mathbf{w}$)\n",
    "\n",
    "$\\mathcal{L}$ is convex in $\\mathbf{w}$, so solution is given by: $ \\frac{\\partial \\mathcal{L}}{\\partial \\mathbf{w}} = 0 $\n",
    "\n",
    "$ 0 = \\frac{2}{N}( \\mathbf{X^T X w} - \\mathbf{X^T y} ) + 2 \\alpha \\mathbf{w}$\n",
    "\n",
    "$ \\frac{2}{N} \\mathbf{X^T Xw} + 2\\mathbf{\\alpha w} = \\frac{2}{N} \\mathbf{X^T y} $\n",
    "\n",
    "$ (\\mathbf{X^T X} + N\\alpha \\mathbf{I})\\mathbf{w} = \\mathbf{X^T y} $\n",
    "\n",
    "$ \\mathbf{w^*} = (\\mathbf{X^T X} + N\\alpha \\mathbf{I})^{-1}\\mathbf{X^T y}$\n",
    "\n",
    "4-  **2pt** Under which condition on the $\\alpha$ is the solution $\\mathbf{w}^*$ unique? Prove rigorously your statement. Make no assumptions on $\\mathbf{X}$. (Hint: If your solution $\\mathbf{w}^*$ requires to invert a matrix, then one necessary condition for uniquess is for the matrix to be invertible. And any positive definitive matrix https://en.wikipedia.org/wiki/Definiteness_of_a_matrix is invertible. You might also want to look at the properties of transposition https://en.wikipedia.org/wiki/Transpose)\n",
    "\n",
    "**Answer:**\n",
    "\n",
    "$ \\mathbf{X^T X} + N\\alpha \\mathbf{I} $ needs to be invertible for the solution to be unique.\n",
    "\n",
    "The matrix is invertible if it is positive definite. The sum of two matrices $\\mathbf{X^T X}$ and $N\\alpha \\mathbf{I}$ is positive definite if one is positive definite and the other is positive semi-definite. The identity matrix is positive definite, and scaling a positive definite matrix by a factor larger than zero gives a positive definite matrix. $N>0$ and therefore, as long as $\\alpha > 0$ we have $N\\alpha \\mathbf{I}$ positive definite. If $\\mathbf{X}$ only has real entries, $\\mathbf{X^TX}$ is positive semi-definite. Therefor the matrix is invertible, and the solution $\\mathbf{w}^*$ is unique as long as $\\alpha>0$.\n",
    "\n",
    "**DOUBLE CHECK WITH TA IF THERE IS MORE REQUIRED THAN INVERTABILITY**\n",
    "\n",
    "5- **2pt** Implement in Python a well commented function **fit_linear_with_regularization** that takes as input $\\mathbf{X}$, $\\mathbf{y}$ and $\\alpha$ and return $\\mathbf{w}^*$ as computed in question 3. You are not allowed to use any loops (for-loop, while-loop ...) to do the implementation. Instead use and abuse as much as possible numpy vectorization techniques. A skeleton of the function is shown in the code cell below.\n",
    "\n",
    "6- **3pt** Implement in Python a well commented function **predict** that takes as input a dataset $\\mathbf{X_{\\text{test}}}$ in the same dimensions as $\\mathbf{X}$ and return the predictions.   Write down the mean squared error (https://en.wikipedia.org/wiki/Mean_squared_error) of your predictions. Then on the same plot with legends, show:\n",
    "\n",
    " a) A scatter plot of the first feature of $\\mathbf{X_{\\text{test}}}$ (x-axis) and the diabetes progression $\\mathbf{y_{\\text{test}}}$ \n",
    " \n",
    " b) A plot of your prediction for $\\mathbf{X_{\\text{test}}}$\n",
    " \n",
    " The skeleton code in the cell below already implements most of data loading and you should only have to fill in the *TODO* part. Again here no loops are allowed (for-loop, while loop in the implementation of the plots and the **predict** )\n"
   ]
  },
  {
   "cell_type": "code",
   "execution_count": 2,
   "metadata": {
    "scrolled": true
   },
   "outputs": [
    {
     "data": {
      "image/png": "[encoded data removed]",
      "text/plain": [
       "<Figure size 432x288 with 1 Axes>"
      ]
     },
     "metadata": {
      "needs_background": "light"
     },
     "output_type": "display_data"
    },
    {
     "name": "stdout",
     "output_type": "stream",
     "text": [
      "Mean Squared error is: 2001.8493792834045\n"
     ]
    },
    {
     "data": {
      "image/png": "[encoded data removed]",
      "text/plain": [
       "<Figure size 432x288 with 1 Axes>"
      ]
     },
     "metadata": {
      "needs_background": "light"
     },
     "output_type": "display_data"
    }
   ],
   "source": [
    "%matplotlib inline\n",
    "import numpy as np\n",
    "from sklearn.metrics import mean_squared_error\n",
    "from sklearn import datasets\n",
    "import matplotlib.pyplot as plt\n",
    "\n",
    "\n",
    "def fit_linear_with_regularization(X, y, alpha):\n",
    "    N = len(y)\n",
    "    # w = (X'X + N*a*I)^(-1)(X'y) \n",
    "    # Chose to use with N here, as used in the lecture notes\n",
    "    w = np.matmul(np.linalg.inv(np.matmul(np.transpose(X), X) + N*np.identity(np.shape(X)[1])*alpha),\n",
    "                  np.matmul(np.transpose(X), y))\n",
    "    return w\n",
    "\n",
    "\n",
    "def predict(X, w):\n",
    "    # Use the calculated weight matrix for the new data with formula y = X*w\n",
    "    y_prediction = np.matmul(X, w)\n",
    "    return y_prediction\n",
    "\n",
    "\n",
    "\n",
    "def plot_training(X_train, y_train):\n",
    "    # Just for visualizing the data for our own sanity\n",
    "    plt.scatter(X_train[:, 1], y_train, label='Real data')\n",
    "    plt.title('Visualization of the training data')\n",
    "    plt.xlabel('First attribute')\n",
    "    plt.ylabel('Diabetes data')\n",
    "    plt.legend()\n",
    "    plt.show()\n",
    "\n",
    "\n",
    "def plot_prediction(X_test, y_test, y_pred):\n",
    "    # Plotting the test data against the prediction data\n",
    "    plt.plot(X_test[:, 1], y_test, '*', label='Real data')\n",
    "    plt.plot(X_test[:, 1], y_pred, '*', label='Prediction')\n",
    "    plt.xlabel('First attribute') \n",
    "    plt.ylabel('Diabetes data')\n",
    "    plt.title('Diabetes test data against prediction data')\n",
    "    plt.legend()\n",
    "    plt.show()\n",
    "\n",
    "    # Compute the mean squared error\n",
    "    # mse = mean_squared_error(y_test, y_pred)\n",
    "    mse = 1/len(y_test)*np.sum((y_test - y_pred)**2)\n",
    "    return mse\n",
    "\n",
    "\n",
    "# Load the diabetes dataset, X input, y output\n",
    "X, y = datasets.load_diabetes(return_X_y=True)\n",
    "X = np.array(X)\n",
    "\n",
    "# Adding the first column in X (ones) \n",
    "X = np.c_[np.ones(len(X)), X]\n",
    "# Split the dataset into training and test set\n",
    "num_test_elements = 20\n",
    "\n",
    "X_train = X[:-num_test_elements]\n",
    "X_test = X[-num_test_elements:]\n",
    "\n",
    "y_train = y[:-num_test_elements]\n",
    "y_test = y[-num_test_elements:]\n",
    "\n",
    "# Set alpha\n",
    "alpha = 0.00001\n",
    "# Train using linear regression with regularization and find optimal model\n",
    "w = fit_linear_with_regularization(X_train, y_train, alpha)\n",
    "# Make predictions using the testing set X_test\n",
    "y_pred = predict(X_test, w)\n",
    "error = plot_prediction(X_test, y_test, y_pred)\n",
    "print(f'Mean Squared error is: {error}')\n",
    "plot_training(X_train, y_train)\n",
    "\n",
    "\n",
    "\n"
   ]
  },
  {
   "cell_type": "markdown",
   "metadata": {},
   "source": [
    "# Bonus question\n",
    "\n",
    "Answering this question, will not give you any additional points. Not answering this question will not prevent you from getting full points (if all other questions are answered correctly). However, if you answer this question, we will pick exactly one question where you didn't receive full points in this assignment and give you **at most** 4 more points there. In particular,  between the questions for which you have reasonably attempted a solution, we will pick the one where the difference between the full point and the point you received is the maximum.\n",
    "\n",
    "## Bayesian Linear Regression 4pt\n",
    "\n",
    "Proud of finishing the task using a linear model with regularization, you show your results to a representative of the Swedish Public Health Agency. You barely finish explaining your solution when the face of the representative turns red and you could distinctly hear: \"Bayesian is the only way: How come didn't you use any probabilities?\". \n",
    "\n",
    "You quickly head back to your desk and now assume a Gaussian prior on the solution $\\mathbf{w}$, that is $p(\\mathbf{w}) = \\mathcal{N}(\\mathbf{0}, \\lambda^{-1} \\mathbf{I})$ where $\\lambda \\in \\mathbb{R}$ is a constant real number, $I$ is the $p \\times p$ identity matrix and $\\mathcal{N}(\\mathbf{0}, \\lambda^{-1} \\mathbf{I})$ is used to mean the multivariate gaussian distribution with mean $\\mathbf{0} \\in \\mathbb{R}^p$ , a vector of zeros of dimension $p$ and covariance matrix $\\lambda^{-1} \\mathbf{I}$ . Then, you use the following likelihood:\n",
    "\n",
    "$p(\\mathbf{y} | \\mathbf{X}, \\mathbf{w}) = \\prod_{i=1}^n \\mathcal{N}(\\mathbf{w}^T \\mathbf{x}_i, \\gamma^{-1})$ where here $\\gamma \\in \\mathbb{R}$ is a constant real number and $\\mathcal{N}(\\mathbf{w}^T \\mathbf{x}_i, \\gamma^{-1})$ is the gaussian distribution with mean  $\\mathbf{w}^T \\mathbf{x}_i$ and variance $\\gamma^{-1}$.\n",
    "\n",
    "\n",
    "7- **2pt** Derive and express in vector/matrix form as a function of $\\mathbf{X}, \\mathbf{y}, \\mathbf{w}$ the log posterior $\\ln p(\\mathbf{w} | \\mathbf{y}, \\mathbf{X})$. Show all the derivations. You can ignore normalizing constants.\n",
    " \n",
    "\n",
    "\n",
    "8-  **2pt** Show that maximizing the posterior in 7- is  similar to minimizing the function $\\mathcal{L}(\\mathbf{w})$ seen in the previous section. Show your derivations. (Note: You should show this without computing the maximum of the posterior. Instead, you should express the log posterior in term of $\\mathcal{L}(\\mathbf{w})$, ignoring constants if necessary. Then find the $\\alpha$ of $\\mathcal{L}(\\mathbf{w})$ in term of $\\lambda$ and $\\gamma$)."
   ]
  },
  {
   "cell_type": "code",
   "execution_count": null,
   "metadata": {},
   "outputs": [],
   "source": []
  }
 ],
 "metadata": {
  "colab": {
   "name": "Hw1_2019.ipynb",
   "provenance": [
    {
     "file_id": "1Y5XjPfo2fv3nGBtIxbf0F_WFtssz1N_S",
     "timestamp": 1553254350644
    }
   ],
   "version": "0.3.2"
  },
  "kernelspec": {
   "display_name": "Python 3",
   "language": "python",
   "name": "python3"
  },
  "language_info": {
   "codemirror_mode": {
    "name": "ipython",
    "version": 3
   },
   "file_extension": ".py",
   "mimetype": "text/x-python",
   "name": "python",
   "nbconvert_exporter": "python",
   "pygments_lexer": "ipython3",
   "version": "3.8.5"
  }
 },
 "nbformat": 4,
 "nbformat_minor": 1
}
